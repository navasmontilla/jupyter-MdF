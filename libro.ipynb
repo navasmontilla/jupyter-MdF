{
  "cells": [
    {
      "cell_type": "markdown",
      "metadata": {
        "id": "view-in-github",
        "colab_type": "text"
      },
      "source": [
        "<a href=\"https://colab.research.google.com/github/navasmontilla/jupyter-MdF/blob/main/libro.ipynb\" target=\"_parent\"><img src=\"https://colab.research.google.com/assets/colab-badge.svg\" alt=\"Open In Colab\"/></a>"
      ]
    },
    {
      "cell_type": "markdown",
      "metadata": {
        "id": "brvlrGllVAGa"
      },
      "source": [
        "# Mecánica de fluidos interactiva\n",
        "\n",
        "### Mecánica de Fluidos. Grado en Igneniería Electrónica y Automática. Escuela Universitaria Politécnica de Teruel\n",
        "\n",
        "### Adrián Navas Montilla\n",
        "\n",
        "Este repositorio consta de dos notebooks:\n",
        "\n",
        "- [Tema 1: Líneas características](notebooks/T3_1_perfiles_presion.ipynb) \n",
        "- [Tema 3: Perfiles de presión y fuerzas](notebooks/T3_1_perfiles_presion.ipynb)\n"
      ]
    }
  ],
  "metadata": {
    "colab": {
      "provenance": [],
      "include_colab_link": true
    },
    "kernelspec": {
      "display_name": "Python 3",
      "language": "python",
      "name": "python3"
    },
    "language_info": {
      "codemirror_mode": {
        "name": "ipython",
        "version": 3
      },
      "file_extension": ".py",
      "mimetype": "text/x-python",
      "name": "python",
      "nbconvert_exporter": "python",
      "pygments_lexer": "ipython3",
      "version": "3.8.8"
    }
  },
  "nbformat": 4,
  "nbformat_minor": 0
}